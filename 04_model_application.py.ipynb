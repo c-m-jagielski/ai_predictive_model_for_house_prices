{
 "cells": [
  {
   "cell_type": "code",
   "execution_count": 1,
   "id": "b18370f3",
   "metadata": {},
   "outputs": [
    {
     "name": "stdout",
     "output_type": "stream",
     "text": [
      "Predicted House Price: $96,964.11\n"
     ]
    },
    {
     "name": "stderr",
     "output_type": "stream",
     "text": [
      "/Users/chrisjagielski/Documents/git/ai_predictive_model_for_house_prices/venv/lib/python3.7/site-packages/ipykernel_launcher.py:38: PerformanceWarning: DataFrame is highly fragmented.  This is usually the result of calling `frame.insert` many times, which has poor performance.  Consider joining all columns at once using pd.concat(axis=1) instead.  To get a de-fragmented frame, use `newframe = frame.copy()`\n"
     ]
    }
   ],
   "source": [
    "import pandas as pd\n",
    "import numpy as np\n",
    "import pickle\n",
    "import os\n",
    "from sklearn.ensemble import GradientBoostingRegressor  # Change to your best model\n",
    "\n",
    "# Train final model on full training data\n",
    "train = pd.read_csv('data/processed_train.csv')\n",
    "X = train.drop(['Id', 'SalePrice'], axis=1)\n",
    "y = train['SalePrice']\n",
    "\n",
    "# Use your best model from previous notebook\n",
    "final_model = GradientBoostingRegressor(n_estimators=100, random_state=42)\n",
    "final_model.fit(X, y)\n",
    "\n",
    "# Save the model\n",
    "os.makedirs('models', exist_ok=True)\n",
    "with open('models/house_price_model.pkl', 'wb') as f:\n",
    "    pickle.dump(final_model, f)\n",
    "\n",
    "# Create a prediction function for new houses\n",
    "def predict_price(house_features):\n",
    "    \"\"\"\n",
    "    Predict the price of a house given its features.\n",
    "    \n",
    "    Parameters:\n",
    "    house_features (dict): Dictionary of house features\n",
    "    \n",
    "    Returns:\n",
    "    float: Predicted house price\n",
    "    \"\"\"\n",
    "    # Convert input to DataFrame\n",
    "    house_df = pd.DataFrame([house_features])\n",
    "    \n",
    "    # Ensure all features match the training data\n",
    "    missing_cols = set(X.columns) - set(house_df.columns)\n",
    "    for col in missing_cols:\n",
    "        house_df[col] = 0\n",
    "    \n",
    "    # Reorder columns to match training data\n",
    "    house_df = house_df[X.columns]\n",
    "    \n",
    "    # Make prediction (log scale)\n",
    "    log_price = final_model.predict(house_df)[0]\n",
    "    \n",
    "    # Convert back from log scale\n",
    "    price = np.expm1(log_price)\n",
    "    \n",
    "    return price\n",
    "\n",
    "# Example usage\n",
    "if __name__ == \"__main__\":\n",
    "    # Example house - modify with actual features from your dataset\n",
    "    example_house = {\n",
    "        'GrLivArea': np.log1p(1500),  # Log-transformed living area\n",
    "        'TotalBsmtSF': np.log1p(1000),  # Log-transformed basement area\n",
    "        'OverallQual': 7,\n",
    "        # Add other important features based on your model\n",
    "        'TotalSF': np.log1p(2500),  # Total square footage\n",
    "        # Fill in remaining features with appropriate values or zeros\n",
    "    }\n",
    "    \n",
    "    predicted_price = predict_price(example_house)\n",
    "    print(f\"Predicted House Price: ${predicted_price:,.2f}\")"
   ]
  },
  {
   "cell_type": "code",
   "execution_count": null,
   "id": "08cdb97e",
   "metadata": {},
   "outputs": [],
   "source": []
  }
 ],
 "metadata": {
  "kernelspec": {
   "display_name": "Python 3 (ipykernel)",
   "language": "python",
   "name": "python3"
  },
  "language_info": {
   "codemirror_mode": {
    "name": "ipython",
    "version": 3
   },
   "file_extension": ".py",
   "mimetype": "text/x-python",
   "name": "python",
   "nbconvert_exporter": "python",
   "pygments_lexer": "ipython3",
   "version": "3.7.3"
  }
 },
 "nbformat": 4,
 "nbformat_minor": 5
}
