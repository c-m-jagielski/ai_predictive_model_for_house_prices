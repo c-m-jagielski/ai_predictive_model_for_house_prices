{
 "cells": [
  {
   "cell_type": "code",
   "execution_count": null,
   "id": "f227d191",
   "metadata": {},
   "outputs": [],
   "source": [
    "# Import necessary libraries\n",
    "import numpy as np\n",
    "import pandas as pd\n",
    "import matplotlib.pyplot as plt\n",
    "import seaborn as sns\n",
    "\n",
    "# Set up visualization defaults\n",
    "plt.style.use('seaborn-whitegrid')\n",
    "sns.set_style('whitegrid')\n",
    "plt.rcParams['figure.figsize'] = (12, 8)\n",
    "\n",
    "# Load the data\n",
    "# Update the path to where you downloaded the data\n",
    "train_data = pd.read_csv('data/train.csv')\n",
    "\n",
    "# Display basic information\n",
    "print(f\"Dataset shape: {train_data.shape}\")\n",
    "train_data.head()\n",
    "\n",
    "# Check missing values\n",
    "missing_values = train_data.isnull().sum()\n",
    "missing_values = missing_values[missing_values > 0].sort_values(ascending=False)\n",
    "print(\"\\nFeatures with missing values:\")\n",
    "print(missing_values)\n",
    "\n",
    "# Explore the target variable (SalePrice)\n",
    "plt.figure(figsize=(10, 6))\n",
    "sns.histplot(train_data['SalePrice'], kde=True)\n",
    "plt.title('Distribution of House Prices')\n",
    "plt.xlabel('Price ($)')\n",
    "plt.ylabel('Frequency')\n",
    "plt.show()\n",
    "\n",
    "# Let's look at some key numerical correlations\n",
    "numeric_features = train_data.select_dtypes(include=[np.number])\n",
    "correlation = numeric_features.corr()['SalePrice'].sort_values(ascending=False)\n",
    "print(\"\\nTop 10 features correlated with SalePrice:\")\n",
    "print(correlation[1:11])  # Excluding SalePrice's correlation with itself\n",
    "\n",
    "# Visualize the top 5 correlations\n",
    "top5_features = correlation[1:6].index\n",
    "plt.figure(figsize=(15, 10))\n",
    "for i, feature in enumerate(top5_features, 1):\n",
    "    plt.subplot(2, 3, i)\n",
    "    plt.scatter(train_data[feature], train_data['SalePrice'], alpha=0.5)\n",
    "    plt.title(f'{feature} vs SalePrice')\n",
    "    plt.xlabel(feature)\n",
    "    plt.ylabel('SalePrice')\n",
    "plt.tight_layout()\n",
    "plt.show()"
   ]
  }
 ],
 "metadata": {
  "kernelspec": {
   "display_name": "Python 3 (ipykernel)",
   "language": "python",
   "name": "python3"
  },
  "language_info": {
   "codemirror_mode": {
    "name": "ipython",
    "version": 3
   },
   "file_extension": ".py",
   "mimetype": "text/x-python",
   "name": "python",
   "nbconvert_exporter": "python",
   "pygments_lexer": "ipython3",
   "version": "3.7.3"
  }
 },
 "nbformat": 4,
 "nbformat_minor": 5
}
